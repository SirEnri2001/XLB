{
 "cells": [
  {
   "metadata": {
    "ExecuteTime": {
     "end_time": "2024-06-20T06:05:15.490643Z",
     "start_time": "2024-06-20T06:05:14.627014Z"
    }
   },
   "cell_type": "code",
   "source": [
    "import jax\n",
    "# Use 8 CPU devices\n",
    "# os.environ[\"XLA_FLAGS\"] = '--xla_force_host_platform_device_count=8'\n",
    "jax.config.update('jax_enable_x64', True)\n",
    "from data_generator import *\n",
    "from visualizer import *\n",
    "from cnn_settings import *"
   ],
   "id": "5f01967c372d1b78",
   "outputs": [],
   "execution_count": 1
  },
  {
   "metadata": {},
   "cell_type": "code",
   "source": "init_frame = np.load(\"./data/init_frame.npz\")",
   "id": "235e4d7cf25236dc",
   "outputs": [],
   "execution_count": null
  },
  {
   "metadata": {
    "ExecuteTime": {
     "end_time": "2024-06-20T06:06:37.999094Z",
     "start_time": "2024-06-20T06:05:27.425915Z"
    }
   },
   "cell_type": "code",
   "source": "ref_data = read_data_and_downsample(51, 8)",
   "id": "33cc8b78cae8d901",
   "outputs": [
    {
     "name": "stderr",
     "output_type": "stream",
     "text": [
      "100%|██████████| 51/51 [01:10<00:00,  1.38s/it]\n"
     ]
    },
    {
     "name": "stdout",
     "output_type": "stream",
     "text": [
      "concatenating ... \n"
     ]
    }
   ],
   "execution_count": 2
  },
  {
   "metadata": {
    "ExecuteTime": {
     "end_time": "2024-06-20T06:10:21.143787Z",
     "start_time": "2024-06-20T06:10:21.109557Z"
    }
   },
   "cell_type": "code",
   "source": [
    "init_rng = jax.random.key(0)\n",
    "learning_rate = 0.01\n",
    "momentum = 0.9\n",
    "from tqdm import tqdm\n",
    "my_unet = SimpleNet()\n",
    "state = create_train_state(my_unet, init_rng, learning_rate, momentum)"
   ],
   "id": "643d5ef163477022",
   "outputs": [],
   "execution_count": 14
  },
  {
   "metadata": {
    "ExecuteTime": {
     "end_time": "2024-06-20T06:07:24.275864Z",
     "start_time": "2024-06-20T06:07:24.273373Z"
    }
   },
   "cell_type": "code",
   "source": "inspect_data(ref_data)",
   "id": "15e0131c1dff6f25",
   "outputs": [
    {
     "name": "stdout",
     "output_type": "stream",
     "text": [
      "\u001B[31m*** Data Summary ***\u001B[0m\n",
      "\u001B[34mTimestep: first frame at T=0 - last frame at T=4000\u001B[0m\n",
      "\u001B[34mTimestep stride: 8\u001B[0m\n",
      "\u001B[34mFrame attributes:\u001B[0m\n",
      "\u001B[32m\ttimestep\u001B[0m <class 'numpy.int64'>\n",
      "\u001B[32m\tu\u001B[0m numpy array shape: (110, 20, 2)\n",
      "\u001B[32m\tf_poststreaming\u001B[0m numpy array shape: (110, 20, 9)\n"
     ]
    }
   ],
   "execution_count": 5
  },
  {
   "metadata": {
    "ExecuteTime": {
     "end_time": "2024-06-20T06:20:28.821911Z",
     "start_time": "2024-06-20T06:20:28.811066Z"
    }
   },
   "cell_type": "code",
   "source": [
    "low_res_lbm_solver = instantiate_simulator(5, False, transfer_output=False, quiet=True)\n",
    "\n",
    "state = train_step(state, ref_data, low_res_lbm_solver, 1)"
   ],
   "id": "f11122dec199209",
   "outputs": [
    {
     "ename": "TypeError",
     "evalue": "instantiate_simulator() got an unexpected keyword argument 'quiet'",
     "output_type": "error",
     "traceback": [
      "\u001B[0;31m---------------------------------------------------------------------------\u001B[0m",
      "\u001B[0;31mTypeError\u001B[0m                                 Traceback (most recent call last)",
      "Cell \u001B[0;32mIn[17], line 1\u001B[0m\n\u001B[0;32m----> 1\u001B[0m low_res_lbm_solver \u001B[38;5;241m=\u001B[39m \u001B[43minstantiate_simulator\u001B[49m\u001B[43m(\u001B[49m\u001B[38;5;241;43m5\u001B[39;49m\u001B[43m,\u001B[49m\u001B[43m \u001B[49m\u001B[38;5;28;43;01mFalse\u001B[39;49;00m\u001B[43m,\u001B[49m\u001B[43m \u001B[49m\u001B[43mtransfer_output\u001B[49m\u001B[38;5;241;43m=\u001B[39;49m\u001B[38;5;28;43;01mFalse\u001B[39;49;00m\u001B[43m,\u001B[49m\u001B[43m \u001B[49m\u001B[43mquiet\u001B[49m\u001B[38;5;241;43m=\u001B[39;49m\u001B[38;5;28;43;01mTrue\u001B[39;49;00m\u001B[43m)\u001B[49m\n\u001B[1;32m      3\u001B[0m state \u001B[38;5;241m=\u001B[39m train_step(state, ref_data, low_res_lbm_solver, \u001B[38;5;241m1\u001B[39m)\n",
      "\u001B[0;31mTypeError\u001B[0m: instantiate_simulator() got an unexpected keyword argument 'quiet'"
     ]
    }
   ],
   "execution_count": 17
  }
 ],
 "metadata": {
  "kernelspec": {
   "display_name": "Python 3",
   "language": "python",
   "name": "python3"
  },
  "language_info": {
   "codemirror_mode": {
    "name": "ipython",
    "version": 2
   },
   "file_extension": ".py",
   "mimetype": "text/x-python",
   "name": "python",
   "nbconvert_exporter": "python",
   "pygments_lexer": "ipython2",
   "version": "2.7.6"
  }
 },
 "nbformat": 4,
 "nbformat_minor": 5
}
