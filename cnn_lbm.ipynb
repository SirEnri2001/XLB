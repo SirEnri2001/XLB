{
 "cells": [
  {
   "metadata": {},
   "cell_type": "code",
   "source": [
    "import jax\n",
    "# Use 8 CPU devices\n",
    "# os.environ[\"XLA_FLAGS\"] = '--xla_force_host_platform_device_count=8'\n",
    "jax.config.update('jax_enable_x64', True)\n",
    "from data_generator import *\n",
    "from visualizer import *\n",
    "from cnn_settings import *"
   ],
   "id": "5f01967c372d1b78",
   "outputs": [],
   "execution_count": null
  },
  {
   "metadata": {},
   "cell_type": "code",
   "source": [
    "train_ref_data, test_ref_data = read_train_test_dataset(10)\n",
    "train_ref_data_std = jnp.std(train_ref_data['u'], axis=(0, 1, 2))"
   ],
   "id": "4b1a745b7606da5f",
   "outputs": [],
   "execution_count": null
  },
  {
   "metadata": {},
   "cell_type": "code",
   "source": "inspect_data(train_ref_data)",
   "id": "ffad36d4bc98ce4f",
   "outputs": [],
   "execution_count": null
  },
  {
   "metadata": {},
   "cell_type": "code",
   "source": [
    "init_rng = jax.random.key(0)\n",
    "learning_rate = 0.1\n",
    "momentum = 0.1\n",
    "from tqdm import tqdm\n",
    "my_unet = UNet()\n",
    "state = create_train_state(my_unet, init_rng, learning_rate, momentum)\n",
    "low_res_lbm_solver = instantiate_simulator(5, True, transfer_output=False, quiet=True)\n",
    "low_res_lbm_solver.set_state(state)"
   ],
   "id": "643d5ef163477022",
   "outputs": [],
   "execution_count": null
  },
  {
   "metadata": {},
   "cell_type": "code",
   "source": [
    "def loss_fn(params, batch_data_f, high_res_ref_data_u):\n",
    "    batched_f = batch_data_f\n",
    "    high_res_u = high_res_ref_data_u\n",
    "    low_res_step_output = low_res_lbm_solver.vmapped_run_step(0, batched_f, params)\n",
    "    loss = optax.l2_loss(low_res_step_output['u'][0], high_res_u).sum()\n",
    "    return loss*100"
   ],
   "id": "77df8b6027998ee5",
   "outputs": [],
   "execution_count": null
  },
  {
   "metadata": {},
   "cell_type": "code",
   "source": [
    "def frame_to_img(frame):\n",
    "    return np.concatenate([frame, np.zeros((frame.shape[0], frame.shape[1], 1))], axis=2)\n",
    "\n",
    "plt.imshow(frame_to_img(state.apply_fn({'params': optimal_params}, high_res_u[0])))"
   ],
   "id": "47a8241db4ed5d86",
   "outputs": [],
   "execution_count": null
  },
  {
   "metadata": {},
   "cell_type": "code",
   "source": [
    "epochs=20\n",
    "min_loss = 100000\n",
    "optimal_params = None\n",
    "batch_size=64\n",
    "test_batch_size = 16\n",
    "for j in range(epochs):\n",
    "    train_pbar = tqdm(range(1000))\n",
    "    select_ts = np.random.choice(train_ref_data['timestep'].shape[0]-1, batch_size+test_batch_size, replace=False)\n",
    "    batched_data_f = train_ref_data['f_poststreaming'][select_ts[:batch_size]]\n",
    "    high_res_ref_data_u = train_ref_data['u'][select_ts[:batch_size]+1]\n",
    "    test_batched_data = train_ref_data['f_poststreaming'][select_ts[batch_size:]]\n",
    "    test_high_res_ref_data_u = train_ref_data['u'][select_ts[batch_size:]+1]\n",
    "    for i in train_pbar:\n",
    "      # Run optimization steps over training batches and compute batch metrics\n",
    "      state, train_loss = train_step(state, batched_data_f, high_res_ref_data_u, low_res_lbm_solver) # get updated train state (which contains the updated parameters)\n",
    "      cur_loss = loss_fn(state.params, test_batched_data, test_high_res_ref_data_u)\n",
    "      if cur_loss < min_loss:\n",
    "          min_loss = cur_loss\n",
    "          optimal_params = state.params\n",
    "      train_pbar.set_description(\"min loss: {:.5f}, train loss : {:.5f}, test loss : {:.5f}\".format(min_loss, train_loss, cur_loss)) # aggregate batch metrics"
   ],
   "id": "6b0fc1af32eafac1",
   "outputs": [],
   "execution_count": null
  },
  {
   "metadata": {},
   "cell_type": "code",
   "source": "init_frames = read_data_and_downsample(1, 8, 'init_frames')",
   "id": "c56f438a8e226546",
   "outputs": [],
   "execution_count": null
  },
  {
   "metadata": {},
   "cell_type": "code",
   "source": [
    "low_res_ref_data = generate_sim_dataset(5, 0, 500, 0, 1, init_frames['f_poststreaming'][0])\n",
    "low_res_lbm_solver.set_params(state.params)\n",
    "cnn_corrected_res_data = generate_sim_dataset(5, 0, 500, 0, 1, init_frames['f_poststreaming'][0], solver=low_res_lbm_solver)"
   ],
   "id": "4aaea22d18b5c33",
   "outputs": [],
   "execution_count": null
  },
  {
   "metadata": {},
   "cell_type": "code",
   "source": "low_res_ref_data['u'][10].min(), low_res_ref_data['u'][10].max()",
   "id": "ef55f234940ded4",
   "outputs": [],
   "execution_count": null
  },
  {
   "metadata": {},
   "cell_type": "code",
   "source": "train_ref_data['u'][10].min(), train_ref_data['u'][10].max()",
   "id": "83251efa801e8105",
   "outputs": [],
   "execution_count": null
  },
  {
   "metadata": {},
   "cell_type": "code",
   "source": "cnn_corrected_res_data['u'][10].min(), cnn_corrected_res_data['u'][10].max()",
   "id": "74e44c6e530371de",
   "outputs": [],
   "execution_count": null
  },
  {
   "metadata": {},
   "cell_type": "code",
   "source": [
    "visualize_data(train_ref_data)\n",
    "visualize_data(low_res_ref_data)\n",
    "visualize_data(cnn_corrected_res_data)"
   ],
   "id": "1db2938bcdcd19a9",
   "outputs": [],
   "execution_count": null
  },
  {
   "metadata": {},
   "cell_type": "code",
   "source": [
    "import optax\n",
    "import matplotlib.pyplot as plt\n",
    "\n",
    "normalized_test_ref_u = vmapped_normalize_frame(train_ref_data['u'])\n",
    "normalized_low_res_u = vmapped_normalize_frame(low_res_ref_data['u'])\n",
    "\n",
    "y = optax.l2_loss(train_ref_data['u'], low_res_ref_data['u'][:100]).sum(axis=(1, 2, 3))\n",
    "y_star = optax.l2_loss(normalized_low_res_u+state.apply_fn({'params': state.params}, normalized_low_res_u), normalized_test_ref_u).sum(axis=(1, 2, 3))\n",
    "x = np.array(range(y.shape[0]))\n",
    "\n",
    "plt.plot(x, y)\n",
    "# plt.plot(x, y_star)"
   ],
   "id": "8739cd05274774bf",
   "outputs": [],
   "execution_count": null
  },
  {
   "metadata": {},
   "cell_type": "code",
   "source": "state.apply_fn({'params': state.params}, low_res_ref_data['u'])",
   "id": "9c03667362c92d9a",
   "outputs": [],
   "execution_count": null
  }
 ],
 "metadata": {
  "kernelspec": {
   "display_name": "Python 3",
   "language": "python",
   "name": "python3"
  },
  "language_info": {
   "codemirror_mode": {
    "name": "ipython",
    "version": 2
   },
   "file_extension": ".py",
   "mimetype": "text/x-python",
   "name": "python",
   "nbconvert_exporter": "python",
   "pygments_lexer": "ipython2",
   "version": "2.7.6"
  }
 },
 "nbformat": 4,
 "nbformat_minor": 5
}
