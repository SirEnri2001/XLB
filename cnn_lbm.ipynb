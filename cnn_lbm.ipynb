{
 "cells": [
  {
   "metadata": {},
   "cell_type": "code",
   "source": [
    "import jax\n",
    "# Use 8 CPU devices\n",
    "# os.environ[\"XLA_FLAGS\"] = '--xla_force_host_platform_device_count=8'\n",
    "jax.config.update('jax_enable_x64', True)\n",
    "from data_generator import *\n",
    "from visualizer import *\n",
    "from cnn_settings import *"
   ],
   "id": "5f01967c372d1b78",
   "outputs": [],
   "execution_count": null
  },
  {
   "metadata": {},
   "cell_type": "code",
   "source": "train_ref_data, test_ref_data = read_train_test_dataset()",
   "id": "4b1a745b7606da5f",
   "outputs": [],
   "execution_count": null
  },
  {
   "metadata": {},
   "cell_type": "code",
   "source": [
    "visualize_data(train_ref_data)\n",
    "visualize_data(test_ref_data)"
   ],
   "id": "a1263478909e1f54",
   "outputs": [],
   "execution_count": null
  },
  {
   "metadata": {},
   "cell_type": "code",
   "source": [
    "init_rng = jax.random.key(0)\n",
    "learning_rate = 0.0001\n",
    "momentum = 0.0009\n",
    "from tqdm import tqdm\n",
    "my_unet = SimpleNet()\n",
    "state = create_train_state(my_unet, init_rng, learning_rate, momentum)\n",
    "low_res_lbm_solver = instantiate_simulator(5, False, transfer_output=False, quiet=True)"
   ],
   "id": "643d5ef163477022",
   "outputs": [],
   "execution_count": null
  },
  {
   "metadata": {},
   "cell_type": "code",
   "source": [
    "state = train_step(state, train_ref_data, low_res_lbm_solver, 1)\n",
    "def loss_fn(params, f):\n",
    "    _, high_res_u = low_res_lbm_solver.update_macroscopic(f)\n",
    "    high_res_u = normalize_frame(high_res_u)\n",
    "    input_f = normalize_frame(f)\n",
    "    low_res_step_output = low_res_lbm_solver.run_step(0, input_f)\n",
    "    correction = state.apply_fn({'params': params}, low_res_lbm_solver.saved_data['u'][0])\n",
    "    loss = optax.l2_loss(normalize_frame(low_res_step_output['u'][0]) + correction, high_res_u).sum()\n",
    "    return loss"
   ],
   "id": "77df8b6027998ee5",
   "outputs": [],
   "execution_count": null
  },
  {
   "metadata": {},
   "cell_type": "code",
   "source": [
    "train_pbar = tqdm(range(4000))\n",
    "min_loss = 100000\n",
    "optimal_params = None\n",
    "select_ts = int(np.random.uniform(low=0, high=500))\n",
    "for i in train_pbar:\n",
    "  # Run optimization steps over training batches and compute batch metrics\n",
    "  state = train_step(state, train_ref_data, low_res_lbm_solver, select_ts) # get updated train state (which contains the updated parameters)\n",
    "  cur_loss = loss_fn(state.params, test_ref_data['f_poststreaming'][int(np.random.uniform(low=0, high=500))])\n",
    "  if cur_loss < min_loss:\n",
    "      min_loss = cur_loss\n",
    "      optimal_params = state.params\n",
    "  train_pbar.set_description(\"min loss: {:.5f}, current loss : {:.5f}\".format(min_loss, cur_loss)) # aggregate batch metrics"
   ],
   "id": "6b0fc1af32eafac1",
   "outputs": [],
   "execution_count": null
  }
 ],
 "metadata": {
  "kernelspec": {
   "display_name": "Python 3",
   "language": "python",
   "name": "python3"
  },
  "language_info": {
   "codemirror_mode": {
    "name": "ipython",
    "version": 2
   },
   "file_extension": ".py",
   "mimetype": "text/x-python",
   "name": "python",
   "nbconvert_exporter": "python",
   "pygments_lexer": "ipython2",
   "version": "2.7.6"
  }
 },
 "nbformat": 4,
 "nbformat_minor": 5
}
